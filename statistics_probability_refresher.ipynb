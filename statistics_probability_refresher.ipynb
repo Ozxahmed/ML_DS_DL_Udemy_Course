{
 "cells": [
  {
   "cell_type": "markdown",
   "metadata": {},
   "source": [
    "# Libraries"
   ]
  },
  {
   "cell_type": "code",
   "execution_count": 84,
   "metadata": {},
   "outputs": [],
   "source": [
    "import numpy as np\n",
    "from scipy import stats\n",
    "\n",
    "import seaborn as sns\n",
    "sns.set_style('darkgrid')\n",
    "\n",
    "from matplotlib import pyplot as plt\n",
    "%matplotlib inline"
   ]
  },
  {
   "cell_type": "markdown",
   "metadata": {},
   "source": [
    "# Exercises"
   ]
  },
  {
   "cell_type": "markdown",
   "metadata": {},
   "source": [
    "### MEAN & MEDIAN"
   ]
  },
  {
   "cell_type": "markdown",
   "metadata": {},
   "source": [
    "Creating fake income data with:\\\n",
    "center = 27000\\\n",
    "sd = 15000\\\n",
    "10000 data point"
   ]
  },
  {
   "cell_type": "code",
   "execution_count": 102,
   "metadata": {},
   "outputs": [
    {
     "data": {
      "text/plain": [
       "array([34450.71229517, 24926.03548243, 36715.32807151, ...,\n",
       "       16420.24914126, 34436.48359523, 36665.82680307])"
      ]
     },
     "execution_count": 102,
     "metadata": {},
     "output_type": "execute_result"
    }
   ],
   "source": [
    "np.random.seed(42)\n",
    "\n",
    "incomes = np.random.normal(27000, 15000, 10000)\n",
    "incomes"
   ]
  },
  {
   "cell_type": "code",
   "execution_count": 103,
   "metadata": {},
   "outputs": [
    {
     "data": {
      "image/png": "[encoded data removed]",
      "text/plain": [
       "<Figure size 360x360 with 1 Axes>"
      ]
     },
     "metadata": {
      "needs_background": "light"
     },
     "output_type": "display_data"
    }
   ],
   "source": [
    "sns.displot(incomes);"
   ]
  },
  {
   "cell_type": "code",
   "execution_count": 96,
   "metadata": {},
   "outputs": [
    {
     "name": "stdout",
     "output_type": "stream",
     "text": [
      "mean income:   26967.960249473606 \n",
      "median income: 26961.075363106836 \n",
      "max income:    85893.56559654491 \n",
      "min income:    -31836.003774275137\n"
     ]
    }
   ],
   "source": [
    "print('mean income:  ', np.mean(incomes), \n",
    "      '\\nmedian income:', np.median(incomes),\n",
    "      '\\nmax income:   ', np.max(incomes), \n",
    "      '\\nmin income:   ', np.min(incomes))"
   ]
  },
  {
   "cell_type": "markdown",
   "metadata": {},
   "source": [
    "Let's compare the above to when we add someone with an extremely high income to the dataset ($100,000,000)\\\n",
    "Understand that when talking about mean, its important to know if there are any outliers.\\\n",
    "If there are outliers, then median might be a better statistic"
   ]
  },
  {
   "cell_type": "code",
   "execution_count": 97,
   "metadata": {},
   "outputs": [
    {
     "name": "stdout",
     "output_type": "stream",
     "text": [
      "mean income:   126955.2647230013 \n",
      "median income: 26963.942386217193 \n",
      "max income:    1000000000.0 \n",
      "min income:    -31836.003774275137\n"
     ]
    }
   ],
   "source": [
    "incomes = np.append(incomes, [1000000000])\n",
    "print('mean income:  ', np.mean(incomes), \n",
    "      '\\nmedian income:', np.median(incomes),\n",
    "      '\\nmax income:   ', np.max(incomes), \n",
    "      '\\nmin income:   ', np.min(incomes))"
   ]
  },
  {
   "cell_type": "markdown",
   "metadata": {},
   "source": [
    "Above we can see how the median chanaged due to that one massive outlier, which isn't exactly representative of the population"
   ]
  },
  {
   "cell_type": "markdown",
   "metadata": {},
   "source": [
    "### MODE\n",
    "\n",
    "Let's create fake ages for 500 people, between 18 and 90 years old."
   ]
  },
  {
   "cell_type": "code",
   "execution_count": 118,
   "metadata": {},
   "outputs": [
    {
     "name": "stdout",
     "output_type": "stream",
     "text": [
      "[24 25 82 74 84 76 89 71 84 68 25 51 52 49 63 33 85 54 71 31 72 65 24 24\n",
      " 50 40 36 36 53 46 77 19 18 64 86 37 28 19 84 29 37 22 54 55 26 70 61 41\n",
      " 47 76 31 26 57 83 42 39 21 43 75 46 54 87 35 59 58 55 51 34 54 42 44 74\n",
      " 48 23 57 29 70 88 27 62 34 43 79 63 81 19 71 82 68 70 53 43 46 38 28 57\n",
      " 28 53 76 56 71 72 41 39 86 73 50 53 37 79 43 83 57 34 18 78 60 59 42 56\n",
      " 52 20 61 68 29 36 61 76 66 78 34 74 72 64 29 79 25 38 87 89 42 29 32 76\n",
      " 43 43 64 49 27 33 88 34 40 43 24 31 24 26 65 89 76 56 35 76 34 31 48 41\n",
      " 77 62 20 54 60 57 72 56 32 21 42 30 50 33 59 83 72 59 51 47 30 30 35 49\n",
      " 56 63 46 79 79 74 33 73 27 47 42 22 82 66 20 62 31 47 85 35 79 54 42 65\n",
      " 82 70 32 66 85 29 76 54 78 60 87 56 73 80 63 28 79 42 88 69 21 76 89 37\n",
      " 80 71 74 58 20 23 22 22 71 64 66 26 37 78 52 67 79 34 20 49 30 85 31 28\n",
      " 73 84 46 26 84 42 59 26 57 42 22 28 76 55 89 22 65 35 87 54 77 65 45 86\n",
      " 57 62 79 75 84 73 57 57 50 23 36 57 76 76 65 58 30 62 70 59 80 44 55 77\n",
      " 24 22 62 75 48 40 59 27 49 70 47 56 48 19 29 56 83 30 63 44 34 77 81 52\n",
      " 87 47 88 80 45 77 54 39 85 37 85 81 34 29 39 34 27 82 39 67 31 81 64 46\n",
      " 53 69 24 46 28 50 23 49 68 75 43 63 46 21 30 56 32 46 46 49 19 64 39 44\n",
      " 84 73 38 64 76 23 36 74 86 20 18 75 55 32 51 78 52 81 42 41 29 35 32 44\n",
      " 89 77 63 34 70 25 44 63 67 88 20 81 61 70 41 77 20 37 63 32 42 88 34 26\n",
      " 55 65 77 80 19 89 28 81 89 38 35 81 55 49 28 62 50 58 25 28 68 58 34 63\n",
      " 49 71 37 50 57 49 19 50 47 50 43 39 83 55 63 32 61 66 78 84 23 26 23 49\n",
      " 58 25 89 67 79 79 24 21 23 75 39 43 20 58 77 31 29 29 30 42]\n"
     ]
    },
    {
     "data": {
      "image/png": "[encoded data removed]",
      "text/plain": [
       "<Figure size 432x288 with 1 Axes>"
      ]
     },
     "metadata": {
      "needs_background": "light"
     },
     "output_type": "display_data"
    }
   ],
   "source": [
    "# np.random.seed(42)\n",
    "\n",
    "ages = np.random.randint(18, 90, size=500)\n",
    "print(ages)\n",
    "plt.hist(ages, 18);"
   ]
  },
  {
   "cell_type": "code",
   "execution_count": 119,
   "metadata": {},
   "outputs": [
    {
     "data": {
      "text/plain": [
       "ModeResult(mode=array([34]), count=array([13]))"
      ]
     },
     "execution_count": 119,
     "metadata": {},
     "output_type": "execute_result"
    }
   ],
   "source": [
    "stats.mode(ages)"
   ]
  },
  {
   "cell_type": "markdown",
   "metadata": {},
   "source": [
    "So in the above dataset, the age 34 appears 13 times. So the mode is 34."
   ]
  },
  {
   "cell_type": "markdown",
   "metadata": {},
   "source": [
    "### VARIANCE ($\\sigma^{2}$)\n",
    "\n",
    "Measures how spread out the dataset is.\\\n",
    "Average of the squared differences from the mean\\\n",
    "This gives weight to outliers\n",
    "\n",
    "### STANDARD DEVIATION ($\\sigma$)\n",
    "\n",
    "Squre root of the variance\\\n",
    "Used as a way to identify outliers. Points that lie more than one standard deviations from the mean can be considered unusual\\\n"
   ]
  },
  {
   "cell_type": "code",
   "execution_count": null,
   "metadata": {},
   "outputs": [],
   "source": []
  }
 ],
 "metadata": {
  "kernelspec": {
   "display_name": "Python 3",
   "language": "python",
   "name": "python3"
  },
  "language_info": {
   "codemirror_mode": {
    "name": "ipython",
    "version": 3
   },
   "file_extension": ".py",
   "mimetype": "text/x-python",
   "name": "python",
   "nbconvert_exporter": "python",
   "pygments_lexer": "ipython3",
   "version": "3.8.3"
  }
 },
 "nbformat": 4,
 "nbformat_minor": 4
}
