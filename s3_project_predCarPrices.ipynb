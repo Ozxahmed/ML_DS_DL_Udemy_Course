{
 "cells": [
  {
   "cell_type": "markdown",
   "metadata": {},
   "source": [
    "# Libraries"
   ]
  },
  {
   "cell_type": "code",
   "execution_count": 1,
   "metadata": {},
   "outputs": [],
   "source": [
    "import os\n",
    "import numpy as np\n",
    "import pandas as pd\n",
    "from scipy import stats\n",
    "from sklearn.metrics import r2_score\n",
    "\n",
    "# visualization\n",
    "import seaborn as sns\n",
    "sns.set_style('darkgrid')\n",
    "import matplotlib.pyplot as plt\n",
    "%matplotlib inline\n",
    "\n",
    "# preprocessing\n",
    "from sklearn.preprocessing import StandardScaler, OneHotEncoder\n",
    "\n",
    "# models\n",
    "import statsmodels.api as sm\n",
    "from statsmodels.formula.api import ols"
   ]
  },
  {
   "cell_type": "markdown",
   "metadata": {},
   "source": [
    "---\n",
    "\n",
    "# 3.27 Predicting Car Prices\n",
    "\n",
    "Multiple regression: Multiple independent variables. Example- predicting price of car based on body style, brand, mileage, etc.\n",
    "\n",
    "Multi**variate** regression: Multiple dependent variables (things you're trying to predict)\n",
    "\n",
    "Based on the EDA below, summary of plan to predict price:\n",
    "- ohe Make, Type\n",
    "- independent vars: mileage, make, type, cylinders, doors, cruise, leather\n",
    "- re doors: once ohe type, and scale the df, see correlation between doors and type. this could be multcol.\n",
    "- linreg price vs mileage, make, cylinders?"
   ]
  },
  {
   "cell_type": "code",
   "execution_count": 2,
   "metadata": {},
   "outputs": [
    {
     "data": {
      "text/html": [
       "<div>\n",
       "<style scoped>\n",
       "    .dataframe tbody tr th:only-of-type {\n",
       "        vertical-align: middle;\n",
       "    }\n",
       "\n",
       "    .dataframe tbody tr th {\n",
       "        vertical-align: top;\n",
       "    }\n",
       "\n",
       "    .dataframe thead th {\n",
       "        text-align: right;\n",
       "    }\n",
       "</style>\n",
       "<table border=\"1\" class=\"dataframe\">\n",
       "  <thead>\n",
       "    <tr style=\"text-align: right;\">\n",
       "      <th></th>\n",
       "      <th>Price</th>\n",
       "      <th>Mileage</th>\n",
       "      <th>Make</th>\n",
       "      <th>Model</th>\n",
       "      <th>Trim</th>\n",
       "      <th>Type</th>\n",
       "      <th>Cylinder</th>\n",
       "      <th>Liter</th>\n",
       "      <th>Doors</th>\n",
       "      <th>Cruise</th>\n",
       "      <th>Sound</th>\n",
       "      <th>Leather</th>\n",
       "    </tr>\n",
       "  </thead>\n",
       "  <tbody>\n",
       "    <tr>\n",
       "      <th>0</th>\n",
       "      <td>17314.103129</td>\n",
       "      <td>8221</td>\n",
       "      <td>Buick</td>\n",
       "      <td>Century</td>\n",
       "      <td>Sedan 4D</td>\n",
       "      <td>Sedan</td>\n",
       "      <td>6</td>\n",
       "      <td>3.1</td>\n",
       "      <td>4</td>\n",
       "      <td>1</td>\n",
       "      <td>1</td>\n",
       "      <td>1</td>\n",
       "    </tr>\n",
       "    <tr>\n",
       "      <th>1</th>\n",
       "      <td>17542.036083</td>\n",
       "      <td>9135</td>\n",
       "      <td>Buick</td>\n",
       "      <td>Century</td>\n",
       "      <td>Sedan 4D</td>\n",
       "      <td>Sedan</td>\n",
       "      <td>6</td>\n",
       "      <td>3.1</td>\n",
       "      <td>4</td>\n",
       "      <td>1</td>\n",
       "      <td>1</td>\n",
       "      <td>0</td>\n",
       "    </tr>\n",
       "    <tr>\n",
       "      <th>2</th>\n",
       "      <td>16218.847862</td>\n",
       "      <td>13196</td>\n",
       "      <td>Buick</td>\n",
       "      <td>Century</td>\n",
       "      <td>Sedan 4D</td>\n",
       "      <td>Sedan</td>\n",
       "      <td>6</td>\n",
       "      <td>3.1</td>\n",
       "      <td>4</td>\n",
       "      <td>1</td>\n",
       "      <td>1</td>\n",
       "      <td>0</td>\n",
       "    </tr>\n",
       "    <tr>\n",
       "      <th>3</th>\n",
       "      <td>16336.913140</td>\n",
       "      <td>16342</td>\n",
       "      <td>Buick</td>\n",
       "      <td>Century</td>\n",
       "      <td>Sedan 4D</td>\n",
       "      <td>Sedan</td>\n",
       "      <td>6</td>\n",
       "      <td>3.1</td>\n",
       "      <td>4</td>\n",
       "      <td>1</td>\n",
       "      <td>0</td>\n",
       "      <td>0</td>\n",
       "    </tr>\n",
       "    <tr>\n",
       "      <th>4</th>\n",
       "      <td>16339.170324</td>\n",
       "      <td>19832</td>\n",
       "      <td>Buick</td>\n",
       "      <td>Century</td>\n",
       "      <td>Sedan 4D</td>\n",
       "      <td>Sedan</td>\n",
       "      <td>6</td>\n",
       "      <td>3.1</td>\n",
       "      <td>4</td>\n",
       "      <td>1</td>\n",
       "      <td>0</td>\n",
       "      <td>1</td>\n",
       "    </tr>\n",
       "  </tbody>\n",
       "</table>\n",
       "</div>"
      ],
      "text/plain": [
       "          Price  Mileage   Make    Model      Trim   Type  Cylinder  Liter  \\\n",
       "0  17314.103129     8221  Buick  Century  Sedan 4D  Sedan         6    3.1   \n",
       "1  17542.036083     9135  Buick  Century  Sedan 4D  Sedan         6    3.1   \n",
       "2  16218.847862    13196  Buick  Century  Sedan 4D  Sedan         6    3.1   \n",
       "3  16336.913140    16342  Buick  Century  Sedan 4D  Sedan         6    3.1   \n",
       "4  16339.170324    19832  Buick  Century  Sedan 4D  Sedan         6    3.1   \n",
       "\n",
       "   Doors  Cruise  Sound  Leather  \n",
       "0      4       1      1        1  \n",
       "1      4       1      1        0  \n",
       "2      4       1      1        0  \n",
       "3      4       1      0        0  \n",
       "4      4       1      0        1  "
      ]
     },
     "execution_count": 2,
     "metadata": {},
     "output_type": "execute_result"
    }
   ],
   "source": [
    "cars = pd.read_excel('http://cdn.sundog-soft.com/Udemy/DataScience/cars.xls')\n",
    "cars.head()"
   ]
  },
  {
   "cell_type": "code",
   "execution_count": 3,
   "metadata": {},
   "outputs": [
    {
     "name": "stdout",
     "output_type": "stream",
     "text": [
      "<class 'pandas.core.frame.DataFrame'>\n",
      "RangeIndex: 804 entries, 0 to 803\n",
      "Data columns (total 12 columns):\n",
      " #   Column    Non-Null Count  Dtype  \n",
      "---  ------    --------------  -----  \n",
      " 0   Price     804 non-null    float64\n",
      " 1   Mileage   804 non-null    int64  \n",
      " 2   Make      804 non-null    object \n",
      " 3   Model     804 non-null    object \n",
      " 4   Trim      804 non-null    object \n",
      " 5   Type      804 non-null    object \n",
      " 6   Cylinder  804 non-null    int64  \n",
      " 7   Liter     804 non-null    float64\n",
      " 8   Doors     804 non-null    int64  \n",
      " 9   Cruise    804 non-null    int64  \n",
      " 10  Sound     804 non-null    int64  \n",
      " 11  Leather   804 non-null    int64  \n",
      "dtypes: float64(2), int64(6), object(4)\n",
      "memory usage: 75.5+ KB\n"
     ]
    }
   ],
   "source": [
    "cars.info()"
   ]
  },
  {
   "cell_type": "code",
   "execution_count": 4,
   "metadata": {},
   "outputs": [
    {
     "data": {
      "text/html": [
       "<div>\n",
       "<style scoped>\n",
       "    .dataframe tbody tr th:only-of-type {\n",
       "        vertical-align: middle;\n",
       "    }\n",
       "\n",
       "    .dataframe tbody tr th {\n",
       "        vertical-align: top;\n",
       "    }\n",
       "\n",
       "    .dataframe thead th {\n",
       "        text-align: right;\n",
       "    }\n",
       "</style>\n",
       "<table border=\"1\" class=\"dataframe\">\n",
       "  <thead>\n",
       "    <tr style=\"text-align: right;\">\n",
       "      <th></th>\n",
       "      <th>Price</th>\n",
       "      <th>Mileage</th>\n",
       "      <th>Cylinder</th>\n",
       "      <th>Liter</th>\n",
       "      <th>Doors</th>\n",
       "      <th>Cruise</th>\n",
       "      <th>Sound</th>\n",
       "      <th>Leather</th>\n",
       "    </tr>\n",
       "  </thead>\n",
       "  <tbody>\n",
       "    <tr>\n",
       "      <th>count</th>\n",
       "      <td>804.000000</td>\n",
       "      <td>804.000000</td>\n",
       "      <td>804.000000</td>\n",
       "      <td>804.000000</td>\n",
       "      <td>804.000000</td>\n",
       "      <td>804.000000</td>\n",
       "      <td>804.000000</td>\n",
       "      <td>804.000000</td>\n",
       "    </tr>\n",
       "    <tr>\n",
       "      <th>mean</th>\n",
       "      <td>21343.143767</td>\n",
       "      <td>19831.934080</td>\n",
       "      <td>5.268657</td>\n",
       "      <td>3.037313</td>\n",
       "      <td>3.527363</td>\n",
       "      <td>0.752488</td>\n",
       "      <td>0.679104</td>\n",
       "      <td>0.723881</td>\n",
       "    </tr>\n",
       "    <tr>\n",
       "      <th>std</th>\n",
       "      <td>9884.852801</td>\n",
       "      <td>8196.319707</td>\n",
       "      <td>1.387531</td>\n",
       "      <td>1.105562</td>\n",
       "      <td>0.850169</td>\n",
       "      <td>0.431836</td>\n",
       "      <td>0.467111</td>\n",
       "      <td>0.447355</td>\n",
       "    </tr>\n",
       "    <tr>\n",
       "      <th>min</th>\n",
       "      <td>8638.930895</td>\n",
       "      <td>266.000000</td>\n",
       "      <td>4.000000</td>\n",
       "      <td>1.600000</td>\n",
       "      <td>2.000000</td>\n",
       "      <td>0.000000</td>\n",
       "      <td>0.000000</td>\n",
       "      <td>0.000000</td>\n",
       "    </tr>\n",
       "    <tr>\n",
       "      <th>25%</th>\n",
       "      <td>14273.073870</td>\n",
       "      <td>14623.500000</td>\n",
       "      <td>4.000000</td>\n",
       "      <td>2.200000</td>\n",
       "      <td>4.000000</td>\n",
       "      <td>1.000000</td>\n",
       "      <td>0.000000</td>\n",
       "      <td>0.000000</td>\n",
       "    </tr>\n",
       "    <tr>\n",
       "      <th>50%</th>\n",
       "      <td>18024.995019</td>\n",
       "      <td>20913.500000</td>\n",
       "      <td>6.000000</td>\n",
       "      <td>2.800000</td>\n",
       "      <td>4.000000</td>\n",
       "      <td>1.000000</td>\n",
       "      <td>1.000000</td>\n",
       "      <td>1.000000</td>\n",
       "    </tr>\n",
       "    <tr>\n",
       "      <th>75%</th>\n",
       "      <td>26717.316636</td>\n",
       "      <td>25213.000000</td>\n",
       "      <td>6.000000</td>\n",
       "      <td>3.800000</td>\n",
       "      <td>4.000000</td>\n",
       "      <td>1.000000</td>\n",
       "      <td>1.000000</td>\n",
       "      <td>1.000000</td>\n",
       "    </tr>\n",
       "    <tr>\n",
       "      <th>max</th>\n",
       "      <td>70755.466717</td>\n",
       "      <td>50387.000000</td>\n",
       "      <td>8.000000</td>\n",
       "      <td>6.000000</td>\n",
       "      <td>4.000000</td>\n",
       "      <td>1.000000</td>\n",
       "      <td>1.000000</td>\n",
       "      <td>1.000000</td>\n",
       "    </tr>\n",
       "  </tbody>\n",
       "</table>\n",
       "</div>"
      ],
      "text/plain": [
       "              Price       Mileage    Cylinder       Liter       Doors  \\\n",
       "count    804.000000    804.000000  804.000000  804.000000  804.000000   \n",
       "mean   21343.143767  19831.934080    5.268657    3.037313    3.527363   \n",
       "std     9884.852801   8196.319707    1.387531    1.105562    0.850169   \n",
       "min     8638.930895    266.000000    4.000000    1.600000    2.000000   \n",
       "25%    14273.073870  14623.500000    4.000000    2.200000    4.000000   \n",
       "50%    18024.995019  20913.500000    6.000000    2.800000    4.000000   \n",
       "75%    26717.316636  25213.000000    6.000000    3.800000    4.000000   \n",
       "max    70755.466717  50387.000000    8.000000    6.000000    4.000000   \n",
       "\n",
       "           Cruise       Sound     Leather  \n",
       "count  804.000000  804.000000  804.000000  \n",
       "mean     0.752488    0.679104    0.723881  \n",
       "std      0.431836    0.467111    0.447355  \n",
       "min      0.000000    0.000000    0.000000  \n",
       "25%      1.000000    0.000000    0.000000  \n",
       "50%      1.000000    1.000000    1.000000  \n",
       "75%      1.000000    1.000000    1.000000  \n",
       "max      1.000000    1.000000    1.000000  "
      ]
     },
     "execution_count": 4,
     "metadata": {},
     "output_type": "execute_result"
    }
   ],
   "source": [
    "cars.describe()"
   ]
  },
  {
   "cell_type": "code",
   "execution_count": 5,
   "metadata": {},
   "outputs": [
    {
     "data": {
      "text/html": [
       "<div>\n",
       "<style scoped>\n",
       "    .dataframe tbody tr th:only-of-type {\n",
       "        vertical-align: middle;\n",
       "    }\n",
       "\n",
       "    .dataframe tbody tr th {\n",
       "        vertical-align: top;\n",
       "    }\n",
       "\n",
       "    .dataframe thead th {\n",
       "        text-align: right;\n",
       "    }\n",
       "</style>\n",
       "<table border=\"1\" class=\"dataframe\">\n",
       "  <thead>\n",
       "    <tr style=\"text-align: right;\">\n",
       "      <th></th>\n",
       "      <th>Price</th>\n",
       "      <th>Mileage</th>\n",
       "      <th>Cylinder</th>\n",
       "      <th>Liter</th>\n",
       "      <th>Doors</th>\n",
       "      <th>Cruise</th>\n",
       "      <th>Sound</th>\n",
       "      <th>Leather</th>\n",
       "    </tr>\n",
       "  </thead>\n",
       "  <tbody>\n",
       "    <tr>\n",
       "      <th>Price</th>\n",
       "      <td>1.000000</td>\n",
       "      <td>-0.143051</td>\n",
       "      <td>0.569086</td>\n",
       "      <td>0.558146</td>\n",
       "      <td>-0.138750</td>\n",
       "      <td>0.430851</td>\n",
       "      <td>-0.124348</td>\n",
       "      <td>0.157197</td>\n",
       "    </tr>\n",
       "    <tr>\n",
       "      <th>Mileage</th>\n",
       "      <td>-0.143051</td>\n",
       "      <td>1.000000</td>\n",
       "      <td>-0.029461</td>\n",
       "      <td>-0.018641</td>\n",
       "      <td>-0.016944</td>\n",
       "      <td>0.025037</td>\n",
       "      <td>-0.026146</td>\n",
       "      <td>0.001005</td>\n",
       "    </tr>\n",
       "    <tr>\n",
       "      <th>Cylinder</th>\n",
       "      <td>0.569086</td>\n",
       "      <td>-0.029461</td>\n",
       "      <td>1.000000</td>\n",
       "      <td>0.957897</td>\n",
       "      <td>0.002206</td>\n",
       "      <td>0.354285</td>\n",
       "      <td>-0.089704</td>\n",
       "      <td>0.075520</td>\n",
       "    </tr>\n",
       "    <tr>\n",
       "      <th>Liter</th>\n",
       "      <td>0.558146</td>\n",
       "      <td>-0.018641</td>\n",
       "      <td>0.957897</td>\n",
       "      <td>1.000000</td>\n",
       "      <td>-0.079259</td>\n",
       "      <td>0.377509</td>\n",
       "      <td>-0.065527</td>\n",
       "      <td>0.087332</td>\n",
       "    </tr>\n",
       "    <tr>\n",
       "      <th>Doors</th>\n",
       "      <td>-0.138750</td>\n",
       "      <td>-0.016944</td>\n",
       "      <td>0.002206</td>\n",
       "      <td>-0.079259</td>\n",
       "      <td>1.000000</td>\n",
       "      <td>-0.047674</td>\n",
       "      <td>-0.062530</td>\n",
       "      <td>-0.061969</td>\n",
       "    </tr>\n",
       "    <tr>\n",
       "      <th>Cruise</th>\n",
       "      <td>0.430851</td>\n",
       "      <td>0.025037</td>\n",
       "      <td>0.354285</td>\n",
       "      <td>0.377509</td>\n",
       "      <td>-0.047674</td>\n",
       "      <td>1.000000</td>\n",
       "      <td>-0.091730</td>\n",
       "      <td>-0.070573</td>\n",
       "    </tr>\n",
       "    <tr>\n",
       "      <th>Sound</th>\n",
       "      <td>-0.124348</td>\n",
       "      <td>-0.026146</td>\n",
       "      <td>-0.089704</td>\n",
       "      <td>-0.065527</td>\n",
       "      <td>-0.062530</td>\n",
       "      <td>-0.091730</td>\n",
       "      <td>1.000000</td>\n",
       "      <td>0.165444</td>\n",
       "    </tr>\n",
       "    <tr>\n",
       "      <th>Leather</th>\n",
       "      <td>0.157197</td>\n",
       "      <td>0.001005</td>\n",
       "      <td>0.075520</td>\n",
       "      <td>0.087332</td>\n",
       "      <td>-0.061969</td>\n",
       "      <td>-0.070573</td>\n",
       "      <td>0.165444</td>\n",
       "      <td>1.000000</td>\n",
       "    </tr>\n",
       "  </tbody>\n",
       "</table>\n",
       "</div>"
      ],
      "text/plain": [
       "             Price   Mileage  Cylinder     Liter     Doors    Cruise  \\\n",
       "Price     1.000000 -0.143051  0.569086  0.558146 -0.138750  0.430851   \n",
       "Mileage  -0.143051  1.000000 -0.029461 -0.018641 -0.016944  0.025037   \n",
       "Cylinder  0.569086 -0.029461  1.000000  0.957897  0.002206  0.354285   \n",
       "Liter     0.558146 -0.018641  0.957897  1.000000 -0.079259  0.377509   \n",
       "Doors    -0.138750 -0.016944  0.002206 -0.079259  1.000000 -0.047674   \n",
       "Cruise    0.430851  0.025037  0.354285  0.377509 -0.047674  1.000000   \n",
       "Sound    -0.124348 -0.026146 -0.089704 -0.065527 -0.062530 -0.091730   \n",
       "Leather   0.157197  0.001005  0.075520  0.087332 -0.061969 -0.070573   \n",
       "\n",
       "             Sound   Leather  \n",
       "Price    -0.124348  0.157197  \n",
       "Mileage  -0.026146  0.001005  \n",
       "Cylinder -0.089704  0.075520  \n",
       "Liter    -0.065527  0.087332  \n",
       "Doors    -0.062530 -0.061969  \n",
       "Cruise   -0.091730 -0.070573  \n",
       "Sound     1.000000  0.165444  \n",
       "Leather   0.165444  1.000000  "
      ]
     },
     "execution_count": 5,
     "metadata": {},
     "output_type": "execute_result"
    }
   ],
   "source": [
    "corr = cars.corr()\n",
    "corr"
   ]
  },
  {
   "cell_type": "code",
   "execution_count": 20,
   "metadata": {},
   "outputs": [
    {
     "data": {
      "image/png": "[encoded data removed]",
      "text/plain": [
       "<Figure size 1260x180 with 7 Axes>"
      ]
     },
     "metadata": {
      "needs_background": "light"
     },
     "output_type": "display_data"
    }
   ],
   "source": [
    "sns.pairplot(data=cars, \n",
    "             y_vars=['Price'], \n",
    "             x_vars=list(cars.select_dtypes([np.number]).columns[1:])); # list of numerical columns within cars dataframe"
   ]
  },
  {
   "cell_type": "code",
   "execution_count": null,
   "metadata": {},
   "outputs": [],
   "source": [
    "# Had to do the following bc there was a bug in Seabon version 0.11.0 where it was graphing all the x_vars cols except the first one.\n",
    "\n",
    "# checking seaborn version with following command:\n",
    "# sns.__version__\n",
    "\n",
    "# version I had: 0.11.0. Latest version: 0.11.1. Ran following command to update seaborn:\n",
    "# pip install seaborn --upgrade"
   ]
  },
  {
   "cell_type": "code",
   "execution_count": 6,
   "metadata": {},
   "outputs": [
    {
     "data": {
      "image/png": "[encoded data removed]",
      "text/plain": [
       "<Figure size 792x648 with 2 Axes>"
      ]
     },
     "metadata": {
      "needs_background": "light"
     },
     "output_type": "display_data"
    }
   ],
   "source": [
    "mask = np.triu(np.ones_like(corr, dtype=np.bool))\n",
    "\n",
    "fig, ax = plt.subplots(figsize=(11, 9))\n",
    "sns.heatmap(corr, mask=mask, ax=ax, cmap=\"viridis\");"
   ]
  },
  {
   "cell_type": "markdown",
   "metadata": {},
   "source": [
    "I'm surprised mileage isn't more correlated with price, so let's check it out below:"
   ]
  },
  {
   "cell_type": "markdown",
   "metadata": {},
   "source": [
    "### Mileage vs Price"
   ]
  },
  {
   "cell_type": "code",
   "execution_count": null,
   "metadata": {},
   "outputs": [],
   "source": [
    "plt.scatter(cars.Mileage, cars.Price);"
   ]
  },
  {
   "cell_type": "code",
   "execution_count": null,
   "metadata": {},
   "outputs": [],
   "source": [
    "sns.lmplot(data=cars, x='Mileage', y='Price');"
   ]
  },
  {
   "cell_type": "code",
   "execution_count": null,
   "metadata": {},
   "outputs": [],
   "source": [
    "# LM Plot for the entire price vs mileage data\n",
    "\n",
    "sns.lmplot(data=cars, x='Mileage', y='Price', hue='Make')\n",
    "plt.title('all makes');"
   ]
  },
  {
   "cell_type": "code",
   "execution_count": null,
   "metadata": {},
   "outputs": [],
   "source": [
    "# LM Plot, by make, Milieage vs Price\n",
    "\n",
    "car_makes = ['Buick', 'Cadillac', 'Chevrolet', 'Pontiac', 'SAAB', 'Saturn']\n",
    "\n",
    "for car_make in car_makes:\n",
    "    sns.lmplot(data=cars[cars.Make == car_make], x='Mileage', y='Price', height=3, aspect=2, \n",
    "               hue='Cylinder', palette={4:'g', 6:'b', 8:'orange'}) \n",
    "    plt.title(car_make);"
   ]
  },
  {
   "cell_type": "code",
   "execution_count": null,
   "metadata": {},
   "outputs": [],
   "source": [
    "cylinders = [8, 6, 4]\n",
    "\n",
    "for cylinder in cylinders:\n",
    "    sns.lmplot(data=cars[cars.Cylinder == cylinder], x='Mileage', y='Price', height=3, aspect=2, hue='Make',\n",
    "               hue_order=car_makes)\n",
    "    plt.title(f'{cylinder} cylinders');"
   ]
  },
  {
   "cell_type": "markdown",
   "metadata": {},
   "source": [
    "So there IS a correlation between mileage and price,"
   ]
  },
  {
   "cell_type": "code",
   "execution_count": null,
   "metadata": {},
   "outputs": [],
   "source": [
    "sns.boxplot(data=cars, x='Make', y='Price');"
   ]
  },
  {
   "cell_type": "markdown",
   "metadata": {},
   "source": [
    "So, cruise and cylinder, both numerical values, have a relatively high positive correlation with price.\n",
    "\n",
    "Let's look at type (categorical) and doors (numerical) real quick. \n",
    "\n",
    "I'm thinking ohe the categoricals, and then scale, and then we can do the linear regression.\n",
    "\n",
    "Also, do a linear regression individually against features, and then altogether. And compare the difference."
   ]
  },
  {
   "cell_type": "code",
   "execution_count": null,
   "metadata": {},
   "outputs": [],
   "source": [
    "cars.head()"
   ]
  },
  {
   "cell_type": "code",
   "execution_count": null,
   "metadata": {},
   "outputs": [],
   "source": [
    "cars.Trim.value_counts().head()\n",
    "\n",
    "# discard this feature."
   ]
  },
  {
   "cell_type": "code",
   "execution_count": null,
   "metadata": {},
   "outputs": [],
   "source": [
    "cars.Type.unique()"
   ]
  },
  {
   "cell_type": "markdown",
   "metadata": {},
   "source": [
    "#### New df with isolated features"
   ]
  },
  {
   "cell_type": "code",
   "execution_count": null,
   "metadata": {},
   "outputs": [],
   "source": [
    "carsLinreg_df = cars[['Price', 'Mileage', 'Make', 'Type', 'Cylinder', 'Doors', 'Cruise', 'Leather']]\n",
    "carsLinreg_df.sample(20)"
   ]
  },
  {
   "cell_type": "code",
   "execution_count": null,
   "metadata": {},
   "outputs": [],
   "source": [
    "carsLinreg_df.describe()"
   ]
  },
  {
   "cell_type": "code",
   "execution_count": null,
   "metadata": {},
   "outputs": [],
   "source": [
    "carsLinreg_df.info()"
   ]
  },
  {
   "cell_type": "markdown",
   "metadata": {},
   "source": [
    "# OLS (udemy) vs ols (flatiron)\n",
    "\n",
    "Looks like the ols (flatiron) one gives a y-intercept. Let's see\n",
    "\n",
    "- going to use mileage, cylinders and doors"
   ]
  },
  {
   "cell_type": "markdown",
   "metadata": {},
   "source": [
    "# OLS (udemy)"
   ]
  },
  {
   "cell_type": "code",
   "execution_count": null,
   "metadata": {},
   "outputs": [],
   "source": [
    "# define feature and target variables\n",
    "X = carsLinreg_df[['Mileage', 'Cylinder', 'Doors']]\n",
    "y = carsLinreg_df[['Price']]\n",
    "\n",
    "# scale features\n",
    "ss = StandardScaler()\n",
    "X_ss = pd.DataFrame(ss.fit_transform(X),\n",
    "                    index= X.index,\n",
    "                    columns= X.columns)"
   ]
  },
  {
   "cell_type": "markdown",
   "metadata": {},
   "source": [
    "HOLY SHIT! When using OLS, we need to add a constant. I kept seeing the .add_constant method all over SOf but didn't know what or why people were adding it. Eventually it dawned on me that this might be the equivalent of the intercept in the ols. I tried it and voila! Now it matches the ols result..."
   ]
  },
  {
   "cell_type": "code",
   "execution_count": null,
   "metadata": {},
   "outputs": [],
   "source": [
    "X_ss = sm.add_constant(X_ss)\n",
    "\n",
    "X_ss.head()"
   ]
  },
  {
   "cell_type": "code",
   "execution_count": null,
   "metadata": {},
   "outputs": [],
   "source": [
    "print(X_ss.max(), '\\n'*2)\n",
    "print(X_ss.min())"
   ]
  },
  {
   "cell_type": "code",
   "execution_count": null,
   "metadata": {},
   "outputs": [],
   "source": [
    "# linreg\n",
    "model_OLS = sm.OLS(y, X_ss).fit()\n",
    "model_OLS.summary()"
   ]
  },
  {
   "cell_type": "markdown",
   "metadata": {},
   "source": [
    "Predicting price for car with 45k miles, 8 cylinders and 4 doors using the model above.\n",
    "\n",
    "Start by scaling your multiple feature variables into the same scale used to train the model, then just call est.predict() on the scaled features:"
   ]
  },
  {
   "cell_type": "code",
   "execution_count": null,
   "metadata": {},
   "outputs": [],
   "source": [
    "help(sm.graphics.plot_regress_exog)"
   ]
  },
  {
   "cell_type": "code",
   "execution_count": null,
   "metadata": {},
   "outputs": [],
   "source": [
    "X_ss.iloc[:,1:4].columns"
   ]
  },
  {
   "cell_type": "code",
   "execution_count": null,
   "metadata": {},
   "outputs": [],
   "source": [
    "# flatiron youtube- Linear Regression 2 (43:04)\n",
    "\n",
    "sm.graphics.plot_regress_exog(model_OLS, 'Doors', fig=plt.figure(figsize=(12,8)));\n",
    "\n",
    "# Can only be graphed using ONE regressor or independent variable\n",
    "# Understanding the assumptions will help with understanding the graphs below."
   ]
  },
  {
   "cell_type": "code",
   "execution_count": null,
   "metadata": {},
   "outputs": [],
   "source": [
    "# scaling the values we're trying to predict from against the scaled values of our model above\n",
    "scaledPredicting = ss.transform([[45000, 8, 4]])\n",
    "\n",
    "scaledPredicting"
   ]
  },
  {
   "cell_type": "code",
   "execution_count": null,
   "metadata": {},
   "outputs": [],
   "source": [
    "scaledPredicting = sm.add_constant(scaledPredicting,has_constant='add')\n",
    "scaledPredicting"
   ]
  },
  {
   "cell_type": "code",
   "execution_count": null,
   "metadata": {},
   "outputs": [],
   "source": [
    "# predicting based on the scaled values we defined in the previous line above\n",
    "OLS_prediction = model_OLS.predict(scaledPredicting)\n",
    "\n",
    "print(OLS_prediction)"
   ]
  },
  {
   "cell_type": "markdown",
   "metadata": {},
   "source": [
    "# ols (Flatiron)\n",
    "\n",
    "We need to combine the price with the scaled values here in a new dataframe"
   ]
  },
  {
   "cell_type": "code",
   "execution_count": null,
   "metadata": {},
   "outputs": [],
   "source": [
    "ols_fsm_df = y.join(X_ss.iloc[:,1:4])\n",
    "\n",
    "ols_fsm_df.head()"
   ]
  },
  {
   "cell_type": "code",
   "execution_count": null,
   "metadata": {},
   "outputs": [],
   "source": [
    "f = 'Price ~ Mileage + Cylinder + Doors'\n",
    "\n",
    "model_ols = ols(formula= f, data= ols_fsm_df).fit()\n",
    "model_ols.summary()"
   ]
  },
  {
   "cell_type": "markdown",
   "metadata": {},
   "source": [
    "\n",
    "Let's make the same prediction from the ols model with the OLS model. Going to use the same params, which we already scaled above."
   ]
  },
  {
   "cell_type": "code",
   "execution_count": null,
   "metadata": {},
   "outputs": [],
   "source": [
    "# let's get the coef from our ols model\n",
    "\n",
    "model_ols.params"
   ]
  },
  {
   "cell_type": "code",
   "execution_count": null,
   "metadata": {},
   "outputs": [],
   "source": [
    "# isolating the coefs for mileage, cylinder, doors.\n",
    "# IMPORTANT: these coefs are based on the scaled values of ea of those features. Not the actual.\n",
    "\n",
    "model_ols.params[1:4]"
   ]
  },
  {
   "cell_type": "code",
   "execution_count": null,
   "metadata": {},
   "outputs": [],
   "source": [
    "#scaled values of 45k, 8 cylinders, and 4 doors\n",
    "\n",
    "print(scaledPredicting[0][1:4])"
   ]
  },
  {
   "cell_type": "code",
   "execution_count": null,
   "metadata": {},
   "outputs": [],
   "source": [
    "print('ss val of 45k miles= ', scaledPredicting[0][1], \n",
    "      '\\nmodel coef for miles=', model_ols.params[1])\n",
    "\n",
    "print('45k miles affect on price:', scaledPredicting[0][1] * model_ols.params[1])"
   ]
  },
  {
   "cell_type": "code",
   "execution_count": null,
   "metadata": {},
   "outputs": [],
   "source": [
    "model_ols.params[1:4]"
   ]
  },
  {
   "cell_type": "code",
   "execution_count": null,
   "metadata": {},
   "outputs": [],
   "source": [
    "eaFeature_pred = model_ols.params[1:4] * scaledPredicting[0][1:4]\n",
    "eaFeature_pred"
   ]
  },
  {
   "cell_type": "code",
   "execution_count": null,
   "metadata": {},
   "outputs": [],
   "source": [
    "eaFeature_predSum = sum(model_ols.params[1:4] * scaledPredicting[0][1:4])\n",
    "eaFeature_predSum"
   ]
  },
  {
   "cell_type": "code",
   "execution_count": null,
   "metadata": {},
   "outputs": [],
   "source": [
    "print(eaFeature_pred[0], eaFeature_pred[1], eaFeature_pred[2])\n",
    "print(eaFeature_pred[0] + eaFeature_pred[1] + eaFeature_pred[2])"
   ]
  },
  {
   "cell_type": "code",
   "execution_count": null,
   "metadata": {},
   "outputs": [],
   "source": [
    "model_ols.params[0] + eaFeature_predSum"
   ]
  },
  {
   "cell_type": "markdown",
   "metadata": {},
   "source": [
    "---"
   ]
  },
  {
   "cell_type": "markdown",
   "metadata": {},
   "source": [
    "I couldn't run the following code below:\n",
    "\n",
    "pd.DataFrame(scaledPredicting[0][1:4], columns= ['Mileage', 'Cylinder', 'Doors'])\n",
    "\n",
    "so the next few cells are me trying to figure out why. Turns out i had to surround scaledPredicting with hard brackets... I have pasted the link below"
   ]
  },
  {
   "cell_type": "code",
   "execution_count": null,
   "metadata": {},
   "outputs": [],
   "source": [
    "scaledPredicting"
   ]
  },
  {
   "cell_type": "code",
   "execution_count": null,
   "metadata": {},
   "outputs": [],
   "source": [
    "pd.DataFrame(scaledPredicting)"
   ]
  },
  {
   "cell_type": "code",
   "execution_count": null,
   "metadata": {},
   "outputs": [],
   "source": [
    "scaledPredicting[0][1:4]"
   ]
  },
  {
   "cell_type": "code",
   "execution_count": null,
   "metadata": {},
   "outputs": [],
   "source": [
    "pd.DataFrame([scaledPredicting[0][1:4]])"
   ]
  },
  {
   "cell_type": "markdown",
   "metadata": {},
   "source": [
    "---"
   ]
  },
  {
   "cell_type": "code",
   "execution_count": null,
   "metadata": {},
   "outputs": [],
   "source": [
    "# turns out I have to feed in a dataframe of scaled values to predict. It has to be a df, else it'll give an error\n",
    "# I'm testing out how to make the dataframe here, and then feed it into the next cell for the prediction.\n",
    "# https://stackoverflow.com/questions/45327069/convert-numpy-array-to-pandas-dataframe-column-wise-as-single-row\n",
    "\n",
    "pd.DataFrame([scaledPredicting[0][1:4]], columns= ['Mileage', 'Cylinder', 'Doors'])"
   ]
  },
  {
   "cell_type": "code",
   "execution_count": null,
   "metadata": {},
   "outputs": [],
   "source": [
    "ols_prediction = model_ols.predict(pd.DataFrame([scaledPredicting[0][1:4]], \n",
    "                                                columns= ['Mileage', 'Cylinder', 'Doors']))\n",
    "\n",
    "ols_prediction"
   ]
  },
  {
   "cell_type": "markdown",
   "metadata": {},
   "source": [
    "# OHE Make & Type"
   ]
  },
  {
   "cell_type": "code",
   "execution_count": null,
   "metadata": {},
   "outputs": [],
   "source": [
    "carsLinreg_df.Make.unique()"
   ]
  },
  {
   "cell_type": "code",
   "execution_count": null,
   "metadata": {},
   "outputs": [],
   "source": [
    "carsLinreg_df.Type.unique()"
   ]
  },
  {
   "cell_type": "markdown",
   "metadata": {},
   "source": [
    "# OHE Make- Dropping first col\n",
    "\n",
    "I'm going to add this back to price and run ols"
   ]
  },
  {
   "cell_type": "code",
   "execution_count": null,
   "metadata": {},
   "outputs": [],
   "source": [
    "ohe = OneHotEncoder(drop='first')\n",
    "\n",
    "oheMake = ohe.fit_transform(carsLinreg_df[['Make']])\n",
    "oheMake.todense()"
   ]
  },
  {
   "cell_type": "code",
   "execution_count": null,
   "metadata": {},
   "outputs": [],
   "source": [
    "ohe.get_feature_names()"
   ]
  },
  {
   "cell_type": "code",
   "execution_count": null,
   "metadata": {},
   "outputs": [],
   "source": [
    "oheMakeDropped_df = pd.DataFrame(oheMake.todense(), \n",
    "                          index=carsLinreg_df.index, \n",
    "                          columns=ohe.get_feature_names(carsLinreg_df[['Make']].columns))\n",
    "\n",
    "oheMakeDropped_df"
   ]
  },
  {
   "cell_type": "code",
   "execution_count": null,
   "metadata": {},
   "outputs": [],
   "source": [
    "y"
   ]
  },
  {
   "cell_type": "code",
   "execution_count": null,
   "metadata": {},
   "outputs": [],
   "source": [
    "ols_MakeDropped_df = y.join(oheMakeDropped_df)\n",
    "ols_MakeDropped_df"
   ]
  },
  {
   "cell_type": "code",
   "execution_count": null,
   "metadata": {},
   "outputs": [],
   "source": [
    "ols_MakeDropped_df.columns"
   ]
  },
  {
   "cell_type": "code",
   "execution_count": null,
   "metadata": {},
   "outputs": [],
   "source": [
    "f = 'Price ~ Make_Cadillac + Make_Chevrolet + Make_Pontiac + Make_SAAB + Make_Saturn'\n",
    "\n",
    "model_ols_MakeDropped = ols(formula= f, data= ols_MakeDropped_df).fit()\n",
    "model_ols_MakeDropped.summary()"
   ]
  },
  {
   "cell_type": "code",
   "execution_count": null,
   "metadata": {},
   "outputs": [],
   "source": [
    "model_ols_MakeDropped.params"
   ]
  },
  {
   "cell_type": "markdown",
   "metadata": {},
   "source": [
    "# OHE Make- Keeping all cols"
   ]
  },
  {
   "cell_type": "code",
   "execution_count": null,
   "metadata": {},
   "outputs": [],
   "source": [
    "carsLinreg_df"
   ]
  },
  {
   "cell_type": "code",
   "execution_count": null,
   "metadata": {},
   "outputs": [],
   "source": [
    "ohe = OneHotEncoder()\n",
    "\n",
    "oheMake = ohe.fit_transform(carsLinreg_df[['Make']])\n",
    "\n",
    "oheMake_df = pd.DataFrame(oheMake.todense(), \n",
    "                          index=carsLinreg_df.index, \n",
    "                          columns=ohe.get_feature_names(carsLinreg_df[['Make']].columns))\n",
    "\n",
    "oheMake_df"
   ]
  },
  {
   "cell_type": "code",
   "execution_count": null,
   "metadata": {},
   "outputs": [],
   "source": [
    "ols_Make_df = y.join(oheMake_df)\n",
    "ols_Make_df"
   ]
  },
  {
   "cell_type": "code",
   "execution_count": null,
   "metadata": {},
   "outputs": [],
   "source": [
    "f = 'Price ~ Make_Buick + Make_Cadillac + Make_Chevrolet + Make_Pontiac + Make_SAAB + Make_Saturn'\n",
    "\n",
    "model_ols_Make = ols(formula= f, data= ols_Make_df).fit()\n",
    "model_ols_Make.summary()"
   ]
  },
  {
   "cell_type": "code",
   "execution_count": null,
   "metadata": {},
   "outputs": [],
   "source": [
    "# Model params from dataframe with ALL dummy columns\n",
    "\n",
    "model_ols_Make.params"
   ]
  },
  {
   "cell_type": "code",
   "execution_count": null,
   "metadata": {},
   "outputs": [],
   "source": [
    "# Model params from dataframe with first dummy column dropped.\n",
    "\n",
    "model_ols_MakeDropped.params"
   ]
  },
  {
   "cell_type": "code",
   "execution_count": null,
   "metadata": {},
   "outputs": [],
   "source": [
    "# all intercept + Buick coef == dropped intercept\n",
    "\n",
    "20009.237335 + 805.876548 == 20815.113883"
   ]
  },
  {
   "cell_type": "code",
   "execution_count": null,
   "metadata": {},
   "outputs": [],
   "source": [
    "# all Cadillac coef - all Buick coef = dropped Cadillac coef\n",
    "\n",
    "print(round(model_ols_Make.params[2], 6), '+', \n",
    "      round(model_ols_Make.params[1], 6), '=', \n",
    "      round(model_ols_MakeDropped.params[1], 6))\n",
    "\n",
    "round(model_ols_Make.params[2] - model_ols_Make.params[1], 6) == round(model_ols_MakeDropped.params[1], 6)"
   ]
  },
  {
   "cell_type": "markdown",
   "metadata": {},
   "source": [
    "OMG! It turns out that when you drop the first column, its coefs gets included into the coefs of the other features! Let's try this with type"
   ]
  },
  {
   "cell_type": "markdown",
   "metadata": {},
   "source": [
    "So we're going to do the same to TYPE, and run ols on both all columns vs dropping first column, to get that coef."
   ]
  },
  {
   "cell_type": "markdown",
   "metadata": {},
   "source": [
    "# OHE Type"
   ]
  },
  {
   "cell_type": "code",
   "execution_count": null,
   "metadata": {},
   "outputs": [],
   "source": [
    "ohe = OneHotEncoder()\n",
    "\n",
    "oheType = ohe.fit_transform(carsLinreg_df[['Type']])\n",
    "\n",
    "ohe_Type_df = pd.DataFrame(oheType.todense(), \n",
    "                           index= carsLinreg_df.index, \n",
    "                           columns= ohe.get_feature_names(carsLinreg_df[['Type']].columns))\n",
    "\n",
    "ohe_Type_df"
   ]
  },
  {
   "cell_type": "markdown",
   "metadata": {},
   "source": [
    "Joining ohe'd type feature to price:"
   ]
  },
  {
   "cell_type": "code",
   "execution_count": null,
   "metadata": {},
   "outputs": [],
   "source": [
    "ohe_Type_df = y.join(ohe_Type_df)\n",
    "ohe_Type_df"
   ]
  },
  {
   "cell_type": "markdown",
   "metadata": {},
   "source": [
    "Let's model this bitch!"
   ]
  },
  {
   "cell_type": "code",
   "execution_count": null,
   "metadata": {},
   "outputs": [],
   "source": [
    "# define formula:\n",
    "f = 'Price ~ Type_Convertible + Type_Coupe + Type_Hatchback + Type_Sedan + Type_Wagon'\n",
    "\n",
    "# model below:\n",
    "olsType = ols(formula=f, data=ohe_Type_df).fit()\n",
    "olsType.summary()"
   ]
  },
  {
   "cell_type": "code",
   "execution_count": null,
   "metadata": {},
   "outputs": [],
   "source": [
    "olsType.params"
   ]
  },
  {
   "cell_type": "markdown",
   "metadata": {},
   "source": [
    "# OHE TYPE, with first column dropped"
   ]
  },
  {
   "cell_type": "code",
   "execution_count": null,
   "metadata": {},
   "outputs": [],
   "source": [
    "# instantiate OneHotEncorder\n",
    "ohe = OneHotEncoder(drop='first')\n",
    "\n",
    "# fit_transform the series of the feature\n",
    "oheTypeDropped = ohe.fit_transform(carsLinreg_df[['Type']])\n",
    "\n",
    "# create a df of the dummied columns\n",
    "oheTypeDropped_df = pd.DataFrame(oheTypeDropped.todense(), \n",
    "                                 index=carsLinreg_df.index,\n",
    "                                 columns=ohe.get_feature_names(carsLinreg_df[['Type']].columns))\n",
    "\n",
    "oheTypeDropped_df"
   ]
  },
  {
   "cell_type": "code",
   "execution_count": null,
   "metadata": {},
   "outputs": [],
   "source": [
    "# join price to dummied columns above\n",
    "oheTypeDropped_df = y.join(oheTypeDropped_df)\n",
    "oheTypeDropped_df"
   ]
  },
  {
   "cell_type": "code",
   "execution_count": null,
   "metadata": {},
   "outputs": [],
   "source": [
    "# let's fuckin' model!\n",
    "\n",
    "# define formula\n",
    "f = 'Price ~ Type_Coupe + Type_Hatchback + Type_Sedan + Type_Wagon'\n",
    "\n",
    "# model\n",
    "olsTypeDropped = ols(formula=f, data=oheTypeDropped_df).fit()\n",
    "olsTypeDropped.summary()"
   ]
  },
  {
   "cell_type": "code",
   "execution_count": null,
   "metadata": {},
   "outputs": [],
   "source": [
    "olsType.params"
   ]
  },
  {
   "cell_type": "code",
   "execution_count": null,
   "metadata": {},
   "outputs": [],
   "source": [
    "olsTypeDropped.params"
   ]
  },
  {
   "cell_type": "markdown",
   "metadata": {},
   "source": [
    "Let's compare the two above:"
   ]
  },
  {
   "cell_type": "code",
   "execution_count": null,
   "metadata": {},
   "outputs": [],
   "source": [
    "# olsType intercept + olsTyple Convertible = olsTypeDropped intercept\n",
    "## had to round bc the answer up to 6 decimal place is the same. \n",
    "\n",
    "round(19442.789722 + 21388.916125, 6) == 40831.705847"
   ]
  },
  {
   "cell_type": "code",
   "execution_count": null,
   "metadata": {},
   "outputs": [],
   "source": [
    "# all couple - all convertible = dropped coupe\n",
    "round(-1715.857890 - 21388.916125, 4) == round(-23104.774016, 4)"
   ]
  },
  {
   "cell_type": "markdown",
   "metadata": {},
   "source": [
    "So, given the above stuff, we can see that the coef of the dropped category is just eaten up by the coefs of the other categories! \n",
    "\n",
    "So now let's go ahead and combine the 2 catgories, Make and Type, OHE all categories, "
   ]
  },
  {
   "cell_type": "markdown",
   "metadata": {},
   "source": [
    "# Joining y with type and make"
   ]
  },
  {
   "cell_type": "markdown",
   "metadata": {},
   "source": [
    "Had to drop Price from ohe_Type_df since it was causing an error with the .join funtion"
   ]
  },
  {
   "cell_type": "code",
   "execution_count": null,
   "metadata": {},
   "outputs": [],
   "source": [
    "# ohe_Type_df.drop(['Price'], axis=1, inplace=True)\n",
    "ohe_Type_df"
   ]
  },
  {
   "cell_type": "code",
   "execution_count": null,
   "metadata": {},
   "outputs": [],
   "source": [
    "oheMake_df"
   ]
  },
  {
   "cell_type": "code",
   "execution_count": null,
   "metadata": {},
   "outputs": [],
   "source": [
    "oheTypeMake_df = y.join([ohe_Type_df, oheMake_df])\n",
    "oheTypeMake_df"
   ]
  },
  {
   "cell_type": "markdown",
   "metadata": {},
   "source": [
    "Now that we have our dataframe above, with the price against the ohe'd type and make, let's model using OLS."
   ]
  },
  {
   "cell_type": "code",
   "execution_count": null,
   "metadata": {},
   "outputs": [],
   "source": [
    "oheTypeMake_df.columns"
   ]
  },
  {
   "cell_type": "code",
   "execution_count": null,
   "metadata": {},
   "outputs": [],
   "source": [
    "for x in oheTypeMake_df.columns:\n",
    "    print(x, '+')"
   ]
  },
  {
   "cell_type": "code",
   "execution_count": null,
   "metadata": {},
   "outputs": [],
   "source": [
    "# let's fuckin' model!\n",
    "\n",
    "# define formula\n",
    "f = 'Price ~ Type_Convertible +Type_Coupe +Type_Hatchback +Type_Sedan +Type_Wagon +Make_Buick +Make_Cadillac +Make_Chevrolet +Make_Pontiac +Make_SAAB +Make_Saturn'\n",
    "\n",
    "# model\n",
    "olsTypeMake = ols(formula=f, data=oheTypeMake_df).fit()\n",
    "olsTypeMake.summary()"
   ]
  },
  {
   "cell_type": "code",
   "execution_count": null,
   "metadata": {},
   "outputs": [],
   "source": [
    "olsTypeMake.params"
   ]
  },
  {
   "cell_type": "markdown",
   "metadata": {},
   "source": [
    "**Predicting cost of car:**\n",
    "\n",
    "car type: convertible\n",
    "car make: cadillac"
   ]
  },
  {
   "cell_type": "code",
   "execution_count": null,
   "metadata": {},
   "outputs": [],
   "source": [
    "pd.DataFrame([[1.0, 1.0]], columns=['Type_Convertible', 'Make_Cadillac'])"
   ]
  },
  {
   "cell_type": "code",
   "execution_count": null,
   "metadata": {},
   "outputs": [],
   "source": [
    "olsTypeMake.predict(pd.DataFrame([[1.0, 0.0, 0.0, 0.0, 0.0, 0.0, 1.0, 0.0, 0.0, 0.0, 0.0]], \n",
    "                                 columns=['Type_Convertible', 'Type_Coupe', 'Type_Hatchback', \n",
    "                                          'Type_Sedan', 'Type_Wagon', 'Make_Buick', 'Make_Cadillac', \n",
    "                                          'Make_Chevrolet', 'Make_Pontiac', 'Make_SAAB', 'Make_Saturn']))"
   ]
  },
  {
   "cell_type": "code",
   "execution_count": null,
   "metadata": {},
   "outputs": [],
   "source": [
    "pd.DataFrame([[1.0, 0.0, 0.0, 0.0, 0.0, 0.0, 1.0, 0.0, 0.0, 0.0, 0.0]], \n",
    "             columns=oheTypeMake_df.columns[1:])"
   ]
  },
  {
   "cell_type": "code",
   "execution_count": null,
   "metadata": {},
   "outputs": [],
   "source": [
    "olsTypeMakeParmas = olsTypeMake.params\n",
    "olsTypeMakeParmas[0] + olsTypeMakeParmas[1] + olsTypeMakeParmas[7]"
   ]
  },
  {
   "cell_type": "code",
   "execution_count": null,
   "metadata": {},
   "outputs": [],
   "source": []
  }
 ],
 "metadata": {
  "kernelspec": {
   "display_name": "Python 3",
   "language": "python",
   "name": "python3"
  },
  "language_info": {
   "codemirror_mode": {
    "name": "ipython",
    "version": 3
   },
   "file_extension": ".py",
   "mimetype": "text/x-python",
   "name": "python",
   "nbconvert_exporter": "python",
   "pygments_lexer": "ipython3",
   "version": "3.8.3"
  }
 },
 "nbformat": 4,
 "nbformat_minor": 4
}
