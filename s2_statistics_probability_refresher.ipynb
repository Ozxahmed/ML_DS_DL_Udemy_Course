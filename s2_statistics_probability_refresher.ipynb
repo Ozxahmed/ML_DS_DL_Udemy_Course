{
 "cells": [
  {
   "cell_type": "markdown",
   "metadata": {},
   "source": [
    "# Libraries"
   ]
  },
  {
   "cell_type": "code",
   "execution_count": 77,
   "metadata": {},
   "outputs": [],
   "source": [
    "import numpy as np\n",
    "from scipy import stats\n",
    "from scipy.stats import norm, expon, binom, poisson\n",
    "\n",
    "#images\n",
    "from IPython.display import Image\n",
    "\n",
    "#visualization\n",
    "import seaborn as sns\n",
    "sns.set_style('darkgrid')\n",
    "\n",
    "from matplotlib import pyplot as plt\n",
    "%matplotlib inline"
   ]
  },
  {
   "cell_type": "markdown",
   "metadata": {},
   "source": [
    "---\n",
    "# Sec 2.14 - Mean, Median, Mode"
   ]
  },
  {
   "cell_type": "markdown",
   "metadata": {},
   "source": [
    "### MEAN & MEDIAN"
   ]
  },
  {
   "cell_type": "markdown",
   "metadata": {},
   "source": [
    "Creating fake income data with:\\\n",
    "center = 27000\\\n",
    "sd = 15000\\\n",
    "10000 data point"
   ]
  },
  {
   "cell_type": "code",
   "execution_count": 2,
   "metadata": {},
   "outputs": [
    {
     "data": {
      "text/plain": [
       "array([34450.71229517, 24926.03548243, 36715.32807151, ...,\n",
       "       16420.24914126, 34436.48359523, 36665.82680307])"
      ]
     },
     "execution_count": 2,
     "metadata": {},
     "output_type": "execute_result"
    }
   ],
   "source": [
    "np.random.seed(42)\n",
    "\n",
    "incomes = np.random.normal(27000, 15000, 10000)\n",
    "incomes"
   ]
  },
  {
   "cell_type": "code",
   "execution_count": 4,
   "metadata": {},
   "outputs": [
    {
     "name": "stderr",
     "output_type": "stream",
     "text": [
      "/Users/oz/opt/anaconda3/lib/python3.8/site-packages/seaborn/distributions.py:2551: FutureWarning: `distplot` is a deprecated function and will be removed in a future version. Please adapt your code to use either `displot` (a figure-level function with similar flexibility) or `histplot` (an axes-level function for histograms).\n",
      "  warnings.warn(msg, FutureWarning)\n"
     ]
    },
    {
     "data": {
      "image/png": "[encoded data removed]",
      "text/plain": [
       "<Figure size 432x288 with 1 Axes>"
      ]
     },
     "metadata": {
      "needs_background": "light"
     },
     "output_type": "display_data"
    }
   ],
   "source": [
    "sns.distplot(incomes);"
   ]
  },
  {
   "cell_type": "code",
   "execution_count": 5,
   "metadata": {},
   "outputs": [
    {
     "name": "stdout",
     "output_type": "stream",
     "text": [
      "mean income:   26967.960249473606 \n",
      "median income: 26961.075363106836 \n",
      "max income:    85893.56559654491 \n",
      "min income:    -31836.003774275137\n"
     ]
    }
   ],
   "source": [
    "print('mean income:  ', np.mean(incomes), \n",
    "      '\\nmedian income:', np.median(incomes),\n",
    "      '\\nmax income:   ', np.max(incomes), \n",
    "      '\\nmin income:   ', np.min(incomes))"
   ]
  },
  {
   "cell_type": "markdown",
   "metadata": {},
   "source": [
    "Let's compare the above to when we add someone with an extremely high income to the dataset ($100,000,000)\\\n",
    "Understand that when talking about mean, its important to know if there are any outliers.\\\n",
    "If there are outliers, then median might be a better statistic"
   ]
  },
  {
   "cell_type": "code",
   "execution_count": 6,
   "metadata": {},
   "outputs": [
    {
     "name": "stdout",
     "output_type": "stream",
     "text": [
      "mean income:   126955.2647230013 \n",
      "median income: 26963.942386217193 \n",
      "max income:    1000000000.0 \n",
      "min income:    -31836.003774275137\n"
     ]
    }
   ],
   "source": [
    "incomes = np.append(incomes, [1000000000])\n",
    "print('mean income:  ', np.mean(incomes), \n",
    "      '\\nmedian income:', np.median(incomes),\n",
    "      '\\nmax income:   ', np.max(incomes), \n",
    "      '\\nmin income:   ', np.min(incomes))"
   ]
  },
  {
   "cell_type": "markdown",
   "metadata": {},
   "source": [
    "Above we can see how the median chanaged due to that one massive outlier, which isn't exactly representative of the population"
   ]
  },
  {
   "cell_type": "markdown",
   "metadata": {},
   "source": [
    "### MODE\n",
    "\n",
    "Let's create fake ages for 500 people, between 18 and 90 years old."
   ]
  },
  {
   "cell_type": "code",
   "execution_count": 7,
   "metadata": {},
   "outputs": [
    {
     "name": "stdout",
     "output_type": "stream",
     "text": [
      "[48 70 51 55 74 21 19 29 52 87 89 38 78 52 65 32 88 32 23 85 39 49 39 44\n",
      " 32 61 26 51 32 79 62 89 75 36 33 25 50 35 52 60 67 20 76 45 63 81 87 64\n",
      " 31 24 48 68 46 32 42 78 58 86 21 74 48 20 84 67 34 77 83 41 49 36 83 77\n",
      " 83 32 52 86 44 24 23 50 75 66 34 59 89 57 63 88 87 85 18 69 52 86 22 34\n",
      " 70 69 31 46 25 18 46 53 68 54 86 70 69 29 69 18 24 34 60 88 34 76 20 46\n",
      " 39 55 71 67 86 47 40 64 38 37 40 85 38 38 18 32 34 68 80 31 76 67 51 23\n",
      " 66 23 86 24 68 18 30 60 44 88 20 75 34 62 75 73 71 46 71 44 62 48 53 78\n",
      " 54 84 53 22 63 69 66 23 27 40 34 61 58 32 61 75 67 69 87 85 80 75 40 61\n",
      " 61 69 84 45 84 35 44 68 77 66 32 85 32 68 65 89 18 24 70 48 35 29 65 47\n",
      " 24 20 80 23 32 88 60 35 39 78 78 70 43 57 25 38 60 38 20 48 44 44 74 50\n",
      " 61 60 48 82 34 32 51 21 89 45 19 34 75 26 48 83 79 36 72 45 67 82 20 69\n",
      " 27 38 54 32 26 61 56 22 42 73 81 89 69 26 27 27 79 77 36 55 23 32 64 62\n",
      " 22 70 83 79 40 61 69 63 36 64 69 41 34 63 81 45 67 81 45 73 76 22 71 61\n",
      " 59 89 74 64 42 61 32 68 70 51 25 87 38 24 73 66 59 40 69 70 33 54 35 37\n",
      " 63 19 80 20 63 66 18 39 31 62 23 82 38 21 20 47 48 51 37 71 42 32 55 40\n",
      " 69 83 74 74 69 52 31 31 50 69 18 51 36 41 21 53 75 49 26 84 37 79 75 39\n",
      " 84 65 25 32 49 70 84 21 47 30 38 58 36 65 80 37 81 54 48 35 37 28 61 81\n",
      " 51 82 72 18 55 26 88 34 69 35 80 50 21 69 26 81 47 25 22 80 18 32 55 59\n",
      " 63 70 43 78 84 71 39 43 77 56 53 38 58 65 43 80 53 41 38 35 32 23 60 48\n",
      " 45 25 46 38 75 77 67 48 64 51 19 84 89 69 24 36 32 65 31 20 67 71 23 66\n",
      " 40 37 77 62 78 73 19 62 57 41 46 84 85 83 71 70 66 49 78 59]\n"
     ]
    },
    {
     "data": {
      "image/png": "[encoded data removed]",
      "text/plain": [
       "<Figure size 432x288 with 1 Axes>"
      ]
     },
     "metadata": {
      "needs_background": "light"
     },
     "output_type": "display_data"
    }
   ],
   "source": [
    "# np.random.seed(42)\n",
    "\n",
    "ages = np.random.randint(18, 90, size=500)\n",
    "print(ages)\n",
    "plt.hist(ages, 18);"
   ]
  },
  {
   "cell_type": "code",
   "execution_count": 8,
   "metadata": {},
   "outputs": [
    {
     "data": {
      "text/plain": [
       "ModeResult(mode=array([32]), count=array([20]))"
      ]
     },
     "execution_count": 8,
     "metadata": {},
     "output_type": "execute_result"
    }
   ],
   "source": [
    "stats.mode(ages)"
   ]
  },
  {
   "cell_type": "markdown",
   "metadata": {},
   "source": [
    "So in the above dataset, the age 34 appears 13 times. So the mode is 34."
   ]
  },
  {
   "cell_type": "markdown",
   "metadata": {},
   "source": [
    "---\n",
    "# Sec 2.15 - Variance & Standard Deviation"
   ]
  },
  {
   "cell_type": "markdown",
   "metadata": {},
   "source": [
    "### VARIANCE ($\\sigma^{2}$)\n",
    "\n",
    "Measures how spread out the dataset is.\\\n",
    "Average of the squared differences from the mean\n",
    "- First find the mean ($\\mu$)\n",
    "- then find the differnces (data point - mean)\n",
    "- sqare the differences\n",
    "- Find average of squared diff (sum squared diff and divide by number of data points)\n",
    "\n",
    "**This gives weight to outliers**"
   ]
  },
  {
   "cell_type": "markdown",
   "metadata": {},
   "source": [
    "### STANDARD DEVIATION ($\\sigma$)\n",
    "\n",
    "Squre root of the variance\\\n",
    "**Helps identify outliers.** Points that lie more than one standard deviations from the mean can be considered unusual.\\\n",
    "Can talk about how extreme a data point is by talking about 'how many sigmas' away from the mean it is"
   ]
  },
  {
   "cell_type": "code",
   "execution_count": 22,
   "metadata": {},
   "outputs": [
    {
     "data": {
      "image/png": "[encoded data removed]",
      "text/plain": [
       "<Figure size 432x288 with 1 Axes>"
      ]
     },
     "metadata": {
      "needs_background": "light"
     },
     "output_type": "display_data"
    }
   ],
   "source": [
    "np.random.seed(42)\n",
    "\n",
    "incomes_0215 = np.random.normal(100.0, 20.0, 10000) #center, sd, size\n",
    "\n",
    "plt.hist(incomes_0215, 50); #bins"
   ]
  },
  {
   "cell_type": "code",
   "execution_count": 14,
   "metadata": {},
   "outputs": [
    {
     "data": {
      "text/plain": [
       "20.06824412259975"
      ]
     },
     "execution_count": 14,
     "metadata": {},
     "output_type": "execute_result"
    }
   ],
   "source": [
    "#STANDARD DEVIATION of numpy array. Can call functions on them\n",
    "\n",
    "incomes_0215.std()"
   ]
  },
  {
   "cell_type": "code",
   "execution_count": 16,
   "metadata": {},
   "outputs": [
    {
     "data": {
      "text/plain": [
       "402.73442216425946"
      ]
     },
     "execution_count": 16,
     "metadata": {},
     "output_type": "execute_result"
    }
   ],
   "source": [
    "#VARIANCE of numpy array. \n",
    "#standard deviation squared\n",
    "\n",
    "incomes_0215.var()"
   ]
  },
  {
   "cell_type": "markdown",
   "metadata": {},
   "source": [
    "### SAMPLE VARIANCE (*S*$^{2}$)\n",
    "\n",
    "If working with sample, instead of entire dataset:\n",
    "- divide the sum of squared diff by **N-1** (N = number of samples)"
   ]
  },
  {
   "cell_type": "markdown",
   "metadata": {},
   "source": [
    "---\n",
    "# Sec 2.16 - Probabily Density/Mass Functions"
   ]
  },
  {
   "cell_type": "markdown",
   "metadata": {},
   "source": [
    "### PROBABILITY DENSITY FUNCITON (pdf)\n",
    "\n",
    "#### For **Continuous Data**\n",
    "\n",
    "Probability of data point falling within some given range of a given value\n",
    "- Between 0 & 1 sd ($\\sigma$) = 68.2%\n",
    "- Between 1 & 2 $\\sigma$ = 27.2%\n",
    "- Between 2 & 3 $\\sigma$ = 4.2%\n",
    "- \\> 3 $\\sigma$ from the mean = .2%"
   ]
  },
  {
   "cell_type": "markdown",
   "metadata": {},
   "source": [
    "![Probability Distribution Function](img/probability_distribution_function_graph.png)"
   ]
  },
  {
   "cell_type": "markdown",
   "metadata": {},
   "source": [
    "### PROBABILITY MASS FUNCTION (pmf)\n",
    "\n",
    "#### For **Discrete Data**"
   ]
  },
  {
   "cell_type": "markdown",
   "metadata": {},
   "source": [
    "![probability mass function](img/probability_mass_function_graph.png)"
   ]
  },
  {
   "cell_type": "markdown",
   "metadata": {},
   "source": [
    "Here we say: the probabiliy of 3 occuring is 30%\n",
    "\n",
    "It's basically a histogram."
   ]
  },
  {
   "cell_type": "markdown",
   "metadata": {},
   "source": [
    "---\n",
    "# Sec 2.17 - Common Data Distributions"
   ]
  },
  {
   "cell_type": "markdown",
   "metadata": {},
   "source": [
    "### UNIFORM DISTRIBUTION\n",
    "\n",
    "Every value has almost an equal probabily of appearing"
   ]
  },
  {
   "cell_type": "code",
   "execution_count": 49,
   "metadata": {},
   "outputs": [
    {
     "data": {
      "image/png": "[encoded data removed]",
      "text/plain": [
       "<Figure size 432x288 with 1 Axes>"
      ]
     },
     "metadata": {
      "needs_background": "light"
     },
     "output_type": "display_data"
    }
   ],
   "source": [
    "values_217 = np.random.uniform(-10.0,10.0, 1000000)\n",
    "plt.hist(values_217, 50);"
   ]
  },
  {
   "cell_type": "markdown",
   "metadata": {},
   "source": [
    "### NORMAL/GAUSSIAN"
   ]
  },
  {
   "cell_type": "code",
   "execution_count": 50,
   "metadata": {},
   "outputs": [
    {
     "data": {
      "image/png": "[encoded data removed]",
      "text/plain": [
       "<Figure size 432x288 with 1 Axes>"
      ]
     },
     "metadata": {
      "needs_background": "light"
     },
     "output_type": "display_data"
    }
   ],
   "source": [
    "x = np.arange(-3, 3, 0.001) #range of values bw -3 and 3, step (or spacing) of 0.001\n",
    "plt.plot(x, norm.pdf(x));"
   ]
  },
  {
   "cell_type": "markdown",
   "metadata": {},
   "source": [
    "### EXPONENTIAL PDF / \"POWER LAW\"\n",
    "\n",
    "Data set where you see an exponential fall off"
   ]
  },
  {
   "cell_type": "code",
   "execution_count": 60,
   "metadata": {},
   "outputs": [
    {
     "data": {
      "image/png": "[encoded data removed]",
      "text/plain": [
       "<Figure size 432x288 with 1 Axes>"
      ]
     },
     "metadata": {
      "needs_background": "light"
     },
     "output_type": "display_data"
    }
   ],
   "source": [
    "x = np.arange(0, 10, 0.001)\n",
    "plt.plot(x, expon.pdf(x));"
   ]
  },
  {
   "cell_type": "markdown",
   "metadata": {},
   "source": [
    "### BINOMIAL PROBABILITY MASS FUNCTION\n",
    "\n",
    "Oz- Not familiar with this. I don't rmr doing this during the bootcamp. But it's in the Udemy course."
   ]
  },
  {
   "cell_type": "code",
   "execution_count": 76,
   "metadata": {},
   "outputs": [
    {
     "data": {
      "image/png": "[encoded data removed]",
      "text/plain": [
       "<Figure size 1440x360 with 5 Axes>"
      ]
     },
     "metadata": {
      "needs_background": "light"
     },
     "output_type": "display_data"
    }
   ],
   "source": [
    "n, p = 10, 0.1\n",
    "n, q = 10, 0.25\n",
    "n, r = 10, 0.5\n",
    "n, s = 10, 0.75\n",
    "n, t = 10, 0.9\n",
    "x = np.arange(0, 10, 0.001)\n",
    "\n",
    "fig, ax = plt.subplots(1, 5, figsize=(20,5)) #rows, cols; figsize(len, height)\n",
    "ax[0].plot(x, binom.pmf(x, n, p))\n",
    "ax[1].plot(x, binom.pmf(x, n, q))\n",
    "ax[2].plot(x, binom.pmf(x, n, r))\n",
    "ax[3].plot(x, binom.pmf(x, n, s))\n",
    "ax[4].plot(x, binom.pmf(x, n, t));"
   ]
  },
  {
   "cell_type": "markdown",
   "metadata": {},
   "source": [
    "### POISSON PMF\n",
    "\n",
    "Example: My website gets on average 500 visits per day, what's the odds of getting 550 on a given day?"
   ]
  },
  {
   "cell_type": "code",
   "execution_count": 86,
   "metadata": {},
   "outputs": [
    {
     "data": {
      "image/png": "[encoded data removed]",
      "text/plain": [
       "<Figure size 432x288 with 1 Axes>"
      ]
     },
     "metadata": {
      "needs_background": "light"
     },
     "output_type": "display_data"
    }
   ],
   "source": [
    "mu = 500 #mean\n",
    "x = np.arange(400, 600, 0.5) #start, stop, step\n",
    "plt.plot(x, poisson.pmf(x, mu));"
   ]
  },
  {
   "cell_type": "code",
   "execution_count": 87,
   "metadata": {},
   "outputs": [
    {
     "data": {
      "text/plain": [
       "0.0015115070495210661"
      ]
     },
     "execution_count": 87,
     "metadata": {},
     "output_type": "execute_result"
    }
   ],
   "source": [
    "x = poisson.pmf(550,mu)\n",
    "x"
   ]
  },
  {
   "cell_type": "markdown",
   "metadata": {},
   "source": [
    "This above doesn't make sense. So the chance of getting 550 visitors is 0.15%?? That's insane... given that the website averages 500 visits per day"
   ]
  },
  {
   "cell_type": "code",
   "execution_count": null,
   "metadata": {},
   "outputs": [],
   "source": []
  }
 ],
 "metadata": {
  "kernelspec": {
   "display_name": "Python 3",
   "language": "python",
   "name": "python3"
  },
  "language_info": {
   "codemirror_mode": {
    "name": "ipython",
    "version": 3
   },
   "file_extension": ".py",
   "mimetype": "text/x-python",
   "name": "python",
   "nbconvert_exporter": "python",
   "pygments_lexer": "ipython3",
   "version": "3.8.3"
  }
 },
 "nbformat": 4,
 "nbformat_minor": 4
}
