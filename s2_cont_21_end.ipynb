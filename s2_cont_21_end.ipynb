{
 "cells": [
  {
   "cell_type": "markdown",
   "metadata": {},
   "source": [
    "# Libraries"
   ]
  },
  {
   "cell_type": "code",
   "execution_count": 1,
   "metadata": {},
   "outputs": [],
   "source": [
    "import numpy as np\n",
    "from scipy import stats #scipy is the library; stats is the module within the library\n",
    "from scipy.stats import norm, expon, binom, poisson\n",
    "import math\n",
    "import pandas as pd\n",
    "\n",
    "#images\n",
    "from IPython.display import Image\n",
    "\n",
    "#visualization\n",
    "import seaborn as sns\n",
    "sns.set_style('darkgrid')\n",
    "\n",
    "from matplotlib import pyplot as plt #matplotlib is the library, and pyplot is the module\n",
    "%matplotlib inline"
   ]
  },
  {
   "cell_type": "markdown",
   "metadata": {},
   "source": [
    "----\n",
    "\n",
    "# 2.21- Covariance and Correlation"
   ]
  },
  {
   "cell_type": "markdown",
   "metadata": {},
   "source": [
    "### COVARIANCE\n",
    "\n",
    "- correlation of -1  means a perfect inverse correlation\n",
    "- correlation of 0: no correlation\n",
    "- correlation 1: perfect correlation\n",
    "\n",
    "**IMPORTANT**: Correlation does not imply causation\n",
    "- Only controlled, randomized experiment can give insights into causation\n",
    "- Use correlation to decide what experiments to conduct"
   ]
  },
  {
   "cell_type": "code",
   "execution_count": null,
   "metadata": {},
   "outputs": [],
   "source": []
  }
 ],
 "metadata": {
  "kernelspec": {
   "display_name": "Python 3",
   "language": "python",
   "name": "python3"
  },
  "language_info": {
   "codemirror_mode": {
    "name": "ipython",
    "version": 3
   },
   "file_extension": ".py",
   "mimetype": "text/x-python",
   "name": "python",
   "nbconvert_exporter": "python",
   "pygments_lexer": "ipython3",
   "version": "3.8.3"
  }
 },
 "nbformat": 4,
 "nbformat_minor": 4
}
